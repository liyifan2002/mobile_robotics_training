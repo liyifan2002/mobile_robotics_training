{
 "cells": [
  {
   "cell_type": "markdown",
   "metadata": {},
   "source": [
    "# Exercise 5: Observation model\n",
    "\n",
    "\n",
    "## 5.1 Implement model for perceiving landmarks\n",
    "\n",
    "Consider a robot that operates in an environment populated by **range-only** sensors such as _beacons_.\n",
    "These sensors transmit a signal that allows for obtaining noisy measurements of their distance from a receiver mounted on the robot.\n",
    "\n",
    "The function `landmark_observation_model` realizes the observation model for perceiving landmarks with a range sensor. It takes as input:\n",
    " \n",
    "- the observed noisy range $z$\n",
    "- the standard deviation of the measurement $\\sigma_z$ (zero-mean Gaussian noise)\n",
    "- the position of the robot in the map $x$\n",
    "- the position of the beacon transmitting beacon in the map $m$\n",
    "\n",
    "The output of this function is the probability $p(z | x, m)$ that the measurement $z$ was obtained at position $x$.\n",
    "\n",
    "Implement the `landmark_observation_model` function and verify that it is correct for some test input. **[2.0]**"
   ]
  },
  {
   "cell_type": "code",
   "execution_count": 25,
   "metadata": {},
   "outputs": [],
   "source": [
    "import numpy as np\n",
    "def normal_density(x,u,sigma):\n",
    "    # x: input\n",
    "    # u: mean\n",
    "    # sigma: covariance matrix\n",
    "    # return: probability density\n",
    "\n",
    "    return np.exp(-0.5*(x-u)**2/sigma**2)/np.sqrt(2*np.pi)/sigma\n",
    "def landmark_observation_model(z,x,m,sigma_z=0.01):\n",
    "    # z: observation\n",
    "    # x: robot pose\n",
    "    # m: map\n",
    "    # return: probability of observation\n",
    "    return normal_density(z,np.linalg.norm(m-x),sigma_z)\n",
    "    "
   ]
  },
  {
   "cell_type": "code",
   "execution_count": 28,
   "metadata": {},
   "outputs": [
    {
     "data": {
      "text/plain": [
       "39.89422804014327"
      ]
     },
     "execution_count": 28,
     "metadata": {},
     "output_type": "execute_result"
    }
   ],
   "source": [
    "normal_density(0,0,0.01)"
   ]
  },
  {
   "cell_type": "code",
   "execution_count": 26,
   "metadata": {},
   "outputs": [
    {
     "name": "stdout",
     "output_type": "stream",
     "text": [
      "39.89422804014327\n"
     ]
    }
   ],
   "source": [
    "print(landmark_observation_model(3,5,2))"
   ]
  },
  {
   "cell_type": "markdown",
   "metadata": {},
   "source": [
    "---\n",
    "\n",
    "## 5.2 Compute likelihood of measurement in the environment\n",
    "\n",
    "The robot operates in an environment that is represetend by a 20x20 grid map and contains a beacon at position $m_1 = [0,0]$ (top-left corner). \n",
    "\n",
    "The robot obtains a range measurement of the beacon $z_1 = 10$ and the sensor noise is $\\sigma_{z1} = 1$.\n",
    "\n",
    "Compute the `landmark_observation_model` at each cell of the environment and plot the likelihood of the observation over the environment. **[1.0]** "
   ]
  },
  {
   "cell_type": "code",
   "execution_count": 31,
   "metadata": {},
   "outputs": [
    {
     "data": {
      "text/plain": [
       "<matplotlib.image.AxesImage at 0x2163eebc790>"
      ]
     },
     "execution_count": 31,
     "metadata": {},
     "output_type": "execute_result"
    },
    {
     "data": {
      "image/png": "[encoded data removed]",
      "text/plain": [
       "<Figure size 640x480 with 1 Axes>"
      ]
     },
     "metadata": {},
     "output_type": "display_data"
    }
   ],
   "source": [
    "grid_map = np.zeros([20,20])\n",
    "beacon = np.array([0,0])\n",
    "import matplotlib.pyplot as plt\n",
    "for i in range(20):\n",
    "    for j in range(20):\n",
    "        grid_map[i,j] = landmark_observation_model(10,np.array([i,j]),beacon,1.0)\n",
    "grid_map/=np.sum(grid_map)\n",
    "plt.imshow(grid_map)\n"
   ]
  },
  {
   "cell_type": "markdown",
   "metadata": {},
   "source": [
    "---\n",
    "\n",
    "## 5.3 Multiple landmarks\n",
    "\n",
    "Assume that we install two **additional** beacons in our environment:\n",
    "\n",
    "- $m_2 = [0, 10]$\n",
    "- $m_3 = [10, 0]$\n",
    "\n",
    "from which we obtain the following observations:\n",
    "\n",
    "- $z_2 = 5$ with $\\sigma_{z2} = 3$\n",
    "- $z_3 = 9$ with $\\sigma_{z3} = 2$\n",
    "\n",
    "Compute the `landmark_observation_model` at each cell of the environment considering the measurements from **all** beacons and plot the **joint** likelihood of the observations over the environment. **[2.0]** "
   ]
  },
  {
   "cell_type": "code",
   "execution_count": 33,
   "metadata": {},
   "outputs": [
    {
     "data": {
      "text/plain": [
       "<matplotlib.image.AxesImage at 0x2163cd760b0>"
      ]
     },
     "execution_count": 33,
     "metadata": {},
     "output_type": "execute_result"
    },
    {
     "data": {
      "image/png": "[encoded data removed]",
      "text/plain": [
       "<Figure size 640x480 with 1 Axes>"
      ]
     },
     "metadata": {},
     "output_type": "display_data"
    }
   ],
   "source": [
    "grid_map = np.zeros([20,20])\n",
    "beacon = np.array([[0,10],[10,0]])\n",
    "import matplotlib.pyplot as plt\n",
    "for i in range(20):\n",
    "    for j in range(20):\n",
    "        belief1 = landmark_observation_model(5,np.array([i,j]),beacon[0],3.0)\n",
    "        belief2 = landmark_observation_model(9,np.array([i,j]),beacon[1],2.0)\n",
    "        grid_map[i,j] = belief1 * belief2\n",
    "grid_map /= np.sum(grid_map)\n",
    "plt.imshow(grid_map)"
   ]
  }
 ],
 "metadata": {
  "kernelspec": {
   "display_name": "Python 3",
   "language": "python",
   "name": "python3"
  },
  "language_info": {
   "codemirror_mode": {
    "name": "ipython",
    "version": 3
   },
   "file_extension": ".py",
   "mimetype": "text/x-python",
   "name": "python",
   "nbconvert_exporter": "python",
   "pygments_lexer": "ipython3",
   "version": "3.10.12"
  }
 },
 "nbformat": 4,
 "nbformat_minor": 4
}
